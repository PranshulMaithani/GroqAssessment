{
 "cells": [
  {
   "cell_type": "markdown",
   "id": "e7928514",
   "metadata": {},
   "source": [
    "# Task 1: Conversation Management with Summarization (Groq API)\n",
    "\n",
    "### Objective\n",
    "We will implement a system to:\n",
    "1. Maintain conversation history between user and assistant.\n",
    "2. Summarize conversations to keep them concise.\n",
    "3. Support truncation:\n",
    "   - By number of turns.\n",
    "   - By character length.\n",
    "4. Perform periodic summarization after every *k* runs.\n",
    "5. Demonstrate with multiple conversation samples.\n",
    "\n",
    "---\n",
    "\n",
    "### Step 1: Setup\n",
    "- Install dependencies.\n",
    "- Import the API key from `.env`.\n"
   ]
  },
  {
   "cell_type": "code",
   "execution_count": 1,
   "id": "e2ad1ae7",
   "metadata": {},
   "outputs": [
    {
     "name": "stderr",
     "output_type": "stream",
     "text": [
      "\n",
      "[notice] A new release of pip available: 22.3.1 -> 25.2\n",
      "[notice] To update, run: python.exe -m pip install --upgrade pip\n"
     ]
    }
   ],
   "source": [
    "# Install required libraries\n",
    "!pip install matplotlib openai python-dotenv --quiet \n"
   ]
  },
  {
   "cell_type": "code",
   "execution_count": 2,
   "id": "2395219d",
   "metadata": {},
   "outputs": [
    {
     "name": "stdout",
     "output_type": "stream",
     "text": [
      "Groq API client initialized\n"
     ]
    }
   ],
   "source": [
    "# Load environment variables (API key)\n",
    "import os\n",
    "from dotenv import load_dotenv\n",
    "from openai import OpenAI\n",
    "\n",
    "# Load .env file\n",
    "load_dotenv()\n",
    "\n",
    "# Get API key from .env (must contain GROQ_API_KEY=...)\n",
    "api_key = os.getenv(\"GROQ_API_KEY\")\n",
    "\n",
    "if not api_key:\n",
    "    raise ValueError(\"API key not found.\")\n",
    "\n",
    "# Initialize Groq client\n",
    "client = OpenAI(\n",
    "    base_url=\"https://api.groq.com/openai/v1\",\n",
    "    api_key=api_key\n",
    ")\n",
    "\n",
    "print(\"Groq API client initialized\")\n"
   ]
  },
  {
   "cell_type": "markdown",
   "id": "91cac197",
   "metadata": {},
   "source": [
    "### Step 2: Conversation Manager Class\n",
    "\n",
    "We’ll create a **ConversationManager** that:\n",
    "- Stores user–assistant messages.\n",
    "- Supports truncation (by turns or length).\n",
    "- Performs summarization after every `k` messages using Groq API.\n"
   ]
  },
  {
   "cell_type": "code",
   "execution_count": 3,
   "id": "055f0bcd",
   "metadata": {},
   "outputs": [],
   "source": [
    "class ConversationManager:\n",
    "    def __init__(self, client, k=3, max_turns=None, max_chars=None):\n",
    "        self.client = client\n",
    "        self.history = []\n",
    "        self.k = k  # summarization frequency\n",
    "        self.run_count = 0\n",
    "        self.max_turns = max_turns\n",
    "        self.max_chars = max_chars\n",
    "        self.length_log = []  # track history length over time\n",
    "    \n",
    "    def add_message(self, role, content):\n",
    "        \"\"\"Add message to history\"\"\"\n",
    "        self.history.append({\"role\": role, \"content\": content})\n",
    "        self.run_count += 1\n",
    "        \n",
    "        # Track before truncation\n",
    "        self.length_log.append(len(\" \".join(m[\"content\"] for m in self.history)))\n",
    "        \n",
    "        # Apply truncation\n",
    "        self.apply_truncation()\n",
    "        \n",
    "        # Periodic summarization\n",
    "        if self.run_count % self.k == 0:\n",
    "            self.summarize()\n",
    "    \n",
    "    def apply_truncation(self):\n",
    "        \"\"\"Truncate history by turns or character length\"\"\"\n",
    "        if self.max_turns:\n",
    "            self.history = self.history[-self.max_turns:]\n",
    "        if self.max_chars:\n",
    "            total_len = 0\n",
    "            truncated = []\n",
    "            for msg in reversed(self.history):\n",
    "                if total_len + len(msg[\"content\"]) <= self.max_chars:\n",
    "                    truncated.insert(0, msg)\n",
    "                    total_len += len(msg[\"content\"])\n",
    "                else:\n",
    "                    break\n",
    "            self.history = truncated\n",
    "    \n",
    "    def summarize(self):\n",
    "        \"\"\"Summarize conversation history using Groq\"\"\"\n",
    "        try:\n",
    "            response = self.client.chat.completions.create(\n",
    "                model=\"llama-3.3-70b-versatile\",\n",
    "\n",
    "                messages=[\n",
    "                    {\"role\": \"system\", \"content\": \"You are a helpful assistant that summarizes conversations.\"},\n",
    "                    {\"role\": \"user\", \"content\": f\"Summarize the following conversation:\\n\\n{self.history}\"}\n",
    "                ],\n",
    "                temperature=0.5,\n",
    "                max_tokens=150\n",
    "            )\n",
    "            \n",
    "            summary = response.choices[0].message.content\n",
    "            self.history = [{\"role\": \"system\", \"content\": f\"(Summary so far): {summary}\"}]\n",
    "            print(\"Conversation summarized.\")\n",
    "        except Exception as e:\n",
    "            print(\"Summarization failed:\", str(e))\n",
    "    \n",
    "    def get_history(self):\n",
    "        return self.history\n"
   ]
  },
  {
   "cell_type": "markdown",
   "id": "7b9cc74f",
   "metadata": {},
   "source": [
    "### Demonstration\n",
    "\n",
    "We’ll:\n",
    "1. Add multiple messages to the conversation.\n",
    "2. Show outputs at different truncation settings.\n",
    "3. Trigger summarization after every **3 runs**.\n"
   ]
  },
  {
   "cell_type": "code",
   "execution_count": 4,
   "id": "9e918a0e",
   "metadata": {},
   "outputs": [
    {
     "name": "stdout",
     "output_type": "stream",
     "text": [
      "\n",
      "--- Conversation History ---\n",
      "user: Hi, I want to know about the weather in Delhi.\n",
      "\n",
      "--- Conversation History ---\n",
      "user: Hi, I want to know about the weather in Delhi.\n",
      "assistant: Sure, today's weather in Delhi is sunny with a high of 35°C.\n",
      "Conversation summarized.\n",
      "\n",
      "--- Conversation History ---\n",
      "system: (Summary so far): Here's a summary of the conversation: \n",
      "\n",
      "A user inquired about the weather in Delhi and was informed that it's sunny with a high of 35°C today. The user then asked about the weather for tomorrow, but didn't receive a response.\n",
      "\n",
      "--- Conversation History ---\n",
      "system: (Summary so far): Here's a summary of the conversation: \n",
      "\n",
      "A user inquired about the weather in Delhi and was informed that it's sunny with a high of 35°C today. The user then asked about the weather for tomorrow, but didn't receive a response.\n",
      "assistant: Tomorrow will be partly cloudy with a high of 33°C.\n",
      "\n",
      "--- Conversation History ---\n",
      "system: (Summary so far): Here's a summary of the conversation: \n",
      "\n",
      "A user inquired about the weather in Delhi and was informed that it's sunny with a high of 35°C today. The user then asked about the weather for tomorrow, but didn't receive a response.\n",
      "assistant: Tomorrow will be partly cloudy with a high of 33°C.\n",
      "user: Great, and can you also tell me the air quality index?\n",
      "Conversation summarized.\n",
      "\n",
      "--- Conversation History ---\n",
      "system: (Summary so far): Here's a summary of the conversation: \n",
      "\n",
      "A user asked about the weather in Delhi and was initially informed that it's sunny with a high of 35°C. They then inquired about the weather for the next day, which was partly cloudy with a high of 33°C. Additionally, the user asked about the air quality index, which is currently 120, classified as moderate.\n",
      "\n",
      "--- Conversation History ---\n",
      "system: (Summary so far): Here's a summary of the conversation: \n",
      "\n",
      "A user asked about the weather in Delhi and was initially informed that it's sunny with a high of 35°C. They then inquired about the weather for the next day, which was partly cloudy with a high of 33°C. Additionally, the user asked about the air quality index, which is currently 120, classified as moderate.\n",
      "user: Okay, should I wear a mask?\n",
      "\n",
      "--- Conversation History ---\n",
      "system: (Summary so far): Here's a summary of the conversation: \n",
      "\n",
      "A user asked about the weather in Delhi and was initially informed that it's sunny with a high of 35°C. They then inquired about the weather for the next day, which was partly cloudy with a high of 33°C. Additionally, the user asked about the air quality index, which is currently 120, classified as moderate.\n",
      "user: Okay, should I wear a mask?\n",
      "assistant: Yes, especially if you have asthma or other conditions.\n",
      "Conversation summarized.\n",
      "\n",
      "--- Conversation History ---\n",
      "system: (Summary so far): Here's a summary of the conversation:\n",
      "\n",
      "The conversation started with a discussion about the weather in Delhi, where it was initially sunny with a high of 35°C and partly cloudy with a high of 33°C the next day. The air quality index was 120, classified as moderate. The user asked if they should wear a mask due to the air quality and was advised to do so, especially if they have asthma or other conditions. The conversation is currently awaiting information about the weekend weather.\n"
     ]
    },
    {
     "data": {
      "image/png": "[encoded data removed]",
      "text/plain": [
       "<Figure size 640x480 with 1 Axes>"
      ]
     },
     "metadata": {},
     "output_type": "display_data"
    }
   ],
   "source": [
    "import matplotlib.pyplot as plt\n",
    "\n",
    "# Create manager\n",
    "conv = ConversationManager(client, k=3, max_turns=6, max_chars=500)\n",
    "\n",
    "# Simulated conversation\n",
    "sample_messages = [\n",
    "    (\"user\", \"Hi, I want to know about the weather in Delhi.\"),\n",
    "    (\"assistant\", \"Sure, today's weather in Delhi is sunny with a high of 35°C.\"),\n",
    "    (\"user\", \"Thanks! What about tomorrow?\"),\n",
    "    (\"assistant\", \"Tomorrow will be partly cloudy with a high of 33°C.\"),\n",
    "    (\"user\", \"Great, and can you also tell me the air quality index?\"),\n",
    "    (\"assistant\", \"The AQI is currently 120, which is moderate.\"),\n",
    "    (\"user\", \"Okay, should I wear a mask?\"),\n",
    "    (\"assistant\", \"Yes, especially if you have asthma or other conditions.\"),\n",
    "    (\"user\", \"Got it. How about the weekend weather?\")\n",
    "]\n",
    "\n",
    "# Add messages\n",
    "for role, content in sample_messages:\n",
    "    conv.add_message(role, content)\n",
    "    print(\"\\n--- Conversation History ---\")\n",
    "    for msg in conv.get_history():\n",
    "        print(f\"{msg['role']}: {msg['content']}\")\n",
    "\n",
    "# Plot conversation length\n",
    "plt.plot(conv.length_log, marker=\"o\")\n",
    "plt.xlabel(\"Message index\")\n",
    "plt.ylabel(\"Conversation length (chars)\")\n",
    "plt.title(\"Conversation Length Reduction via Summarization\")\n",
    "plt.show()\n"
   ]
  },
  {
   "cell_type": "markdown",
   "id": "8fbef1d2",
   "metadata": {},
   "source": [
    "# Task 2: JSON Schema Classification & Information Extraction\n"
   ]
  },
  {
   "cell_type": "markdown",
   "id": "7ea76599",
   "metadata": {},
   "source": [
    "### Objective\n",
    "We will:\n",
    "1. Define a **JSON schema** to extract:\n",
    "   - Name  \n",
    "   - Email  \n",
    "   - Phone  \n",
    "   - Location  \n",
    "   - Age  \n",
    "2. Use Groq API’s **function calling** for structured output.  \n",
    "3. Validate with sample chats.  \n"
   ]
  },
  {
   "cell_type": "code",
   "execution_count": 5,
   "id": "26f67d2b",
   "metadata": {},
   "outputs": [],
   "source": [
    "# Define schema for extraction\n",
    "schema = {\n",
    "    \"name\": \"extract_user_info\",\n",
    "    \"description\": \"Extract user details from conversation\",\n",
    "    \"parameters\": {\n",
    "        \"type\": \"object\",\n",
    "        \"properties\": {\n",
    "            \"name\": {\"type\": \"string\", \"description\": \"Full name of the user\"},\n",
    "            \"email\": {\"type\": \"string\", \"description\": \"Email address of the user\"},\n",
    "            \"phone\": {\"type\": \"string\", \"description\": \"Phone number of the user\"},\n",
    "            \"location\": {\"type\": \"string\", \"description\": \"Location or city of the user\"},\n",
    "            \"age\": {\"type\": \"integer\", \"description\": \"Age of the user\"}\n",
    "        },\n",
    "        \"required\": [\"name\", \"email\", \"phone\", \"location\", \"age\"]\n",
    "    }\n",
    "}\n"
   ]
  },
  {
   "cell_type": "code",
   "execution_count": 6,
   "id": "569527f7",
   "metadata": {},
   "outputs": [],
   "source": [
    "def extract_info(chat_text):\n",
    "    \"\"\"Call Groq API with function-calling schema\"\"\"\n",
    "    response = client.chat.completions.create(\n",
    "        model=\"llama-3.3-70b-versatile\",\n",
    "        messages=[{\"role\": \"user\", \"content\": chat_text}],\n",
    "        functions=[schema],\n",
    "        function_call={\"name\": \"extract_user_info\"}\n",
    "    )\n",
    "    try:\n",
    "        return response.choices[0].message.function_call.arguments\n",
    "    except Exception as e:\n",
    "        return {\"error\": str(e)}\n"
   ]
  },
  {
   "cell_type": "markdown",
   "id": "570ad31c",
   "metadata": {},
   "source": [
    "### Test with Sample Chats\n"
   ]
  },
  {
   "cell_type": "code",
   "execution_count": 7,
   "id": "a8adb9f5",
   "metadata": {},
   "outputs": [
    {
     "name": "stdout",
     "output_type": "stream",
     "text": [
      "\n",
      "🔹 Sample 1:\n",
      "Hi, my name is Pranshul. I'm 21 years old, living in Mumbai. My email is pranshulm2004@gmail.com and my phone is 9876543210.\n",
      "Extracted Json: {\"age\":21,\"email\":\"pranshulm2004@gmail.com\",\"location\":\"Mumbai\",\"name\":\"Pranshul\",\"phone\":\"9876543210\"}\n",
      "\n",
      "🔹 Sample 2:\n",
      "Hello, I am Neelakshi Tiwari, 22 years old from Delhi. Contact me at neelakshi.tiwari@mail.com or call me at 1234567890.\n",
      "Extracted Json: {\"age\":22,\"email\":\"neelakshi.tiwari@mail.com\",\"location\":\"Delhi\",\"name\":\"Neelakshi Tiwari\",\"phone\":\"1234567890\"}\n",
      "\n",
      "🔹 Sample 3:\n",
      "I'm Ankit, 22, from Bangalore. You can reach me at ankit22@yahoo.com, phone 8765432109.\n",
      "Extracted Json: {\"age\":22,\"email\":\"ankit22@yahoo.com\",\"location\":\"Bangalore\",\"name\":\"Ankit\",\"phone\":\"8765432109\"}\n"
     ]
    }
   ],
   "source": [
    "samples = [\n",
    "    \"Hi, my name is Pranshul. I'm 21 years old, living in Mumbai. My email is pranshulm2004@gmail.com and my phone is 9876543210.\",\n",
    "    \"Hello, I am Neelakshi Tiwari, 22 years old from Delhi. Contact me at neelakshi.tiwari@mail.com or call me at 1234567890.\",\n",
    "    \"I'm Ankit, 22, from Bangalore. You can reach me at ankit22@yahoo.com, phone 8765432109.\"\n",
    "]\n",
    "\n",
    "for i, text in enumerate(samples, 1):\n",
    "    print(f\"\\n🔹 Sample {i}:\")\n",
    "    print(text)\n",
    "    result = extract_info(text)\n",
    "    print(\"Extracted Json:\", result)\n"
   ]
  },
  {
   "cell_type": "markdown",
   "id": "817abe2f",
   "metadata": {},
   "source": [
    "# Summary\n",
    "\n",
    "- **Task 1**: Implemented a conversation manager with truncation and periodic summarization.  \n",
    "- **Task 2**: Implemented JSON schema classification & structured extraction using Groq function calling.  \n",
    "\n",
    "Both tasks demonstrate core Groq API functionalities clearly with visible outputs.  \n"
   ]
  }
 ],
 "metadata": {
  "kernelspec": {
   "display_name": "venv",
   "language": "python",
   "name": "python3"
  },
  "language_info": {
   "codemirror_mode": {
    "name": "ipython",
    "version": 3
   },
   "file_extension": ".py",
   "mimetype": "text/x-python",
   "name": "python",
   "nbconvert_exporter": "python",
   "pygments_lexer": "ipython3",
   "version": "3.10.10"
  }
 },
 "nbformat": 4,
 "nbformat_minor": 5
}
