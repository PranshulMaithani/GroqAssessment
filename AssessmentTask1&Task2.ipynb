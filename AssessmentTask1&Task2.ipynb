{
  "nbformat": 4,
  "nbformat_minor": 0,
  "metadata": {
    "colab": {
      "provenance": [],
      "authorship_tag": "ABX9TyOLD3UBMPG5RnHh3ysle946",
      "include_colab_link": true
    },
    "kernelspec": {
      "name": "python3",
      "display_name": "Python 3"
    },
    "language_info": {
      "name": "python"
    }
  },
  "cells": [
    {
      "cell_type": "markdown",
      "metadata": {
        "id": "view-in-github",
        "colab_type": "text"
      },
      "source": [
        "<a href=\"https://colab.research.google.com/github/PranshulMaithani/GroqAssessment/blob/main/AssessmentTask1%26Task2.ipynb\" target=\"_parent\"><img src=\"https://colab.research.google.com/assets/colab-badge.svg\" alt=\"Open In Colab\"/></a>"
      ]
    },
    {
      "cell_type": "markdown",
      "source": [
        "# Task 1: Conversation Management with Summarization (Groq API)\n",
        "\n",
        "### Objective\n",
        "We will implement a system to:\n",
        "1. Maintain conversation history between user and assistant.\n",
        "2. Summarize conversations to keep them concise.\n",
        "3. Support truncation:\n",
        "   - By number of turns.\n",
        "   - By character length.\n",
        "4. Perform periodic summarization after every *k* runs.\n",
        "5. Demonstrate with multiple conversation samples.\n",
        "\n",
        "---\n",
        "\n",
        "### Step 1: Setup\n",
        "- Install dependencies.\n",
        "- Import the API key from `.env`.\n",
        "### Alternative for Google Collab.\n",
        "- import secret key from google secrets"
      ],
      "metadata": {
        "id": "p58YifruxN2g"
      }
    },
    {
      "cell_type": "code",
      "source": [
        "# Install required libraries\n",
        "!pip install matplotlib openai python-dotenv --quiet\n"
      ],
      "metadata": {
        "id": "0K2Wqc5IxPzT"
      },
      "execution_count": 1,
      "outputs": []
    },
    {
      "cell_type": "code",
      "source": [
        "# Load environment variables (API key)\n",
        "import os\n",
        "from dotenv import load_dotenv\n",
        "from openai import OpenAI\n",
        "from google.colab import userdata\n",
        "\n",
        "\n",
        "# Load .env file\n",
        "load_dotenv()\n",
        "\n",
        "# Get API key from .env (must contain GROQ_API_KEY=...)\n",
        "api_key = userdata.get('GROQ_API_KEY')\n",
        "\n",
        "\n",
        "if not api_key:\n",
        "    raise ValueError(\"API key not found.\")\n",
        "\n",
        "# Initialize Groq client\n",
        "client = OpenAI(\n",
        "    base_url=\"https://api.groq.com/openai/v1\",\n",
        "    api_key=api_key\n",
        ")\n",
        "\n",
        "print(\"Groq API client initialized\")\n"
      ],
      "metadata": {
        "colab": {
          "base_uri": "https://localhost:8080/"
        },
        "id": "HK5Agu1Tx49C",
        "outputId": "e86b24b6-fc6d-46c3-f0de-df887a50ba6c"
      },
      "execution_count": 4,
      "outputs": [
        {
          "output_type": "stream",
          "name": "stdout",
          "text": [
            "Groq API client initialized\n"
          ]
        }
      ]
    },
    {
      "cell_type": "markdown",
      "source": [
        "### Step 2: Conversation Manager Class\n",
        "\n",
        "We’ll create a **ConversationManager** that:\n",
        "- Stores user–assistant messages.\n",
        "- Supports truncation (by turns or length).\n",
        "- Performs summarization after every `k` messages using Groq API.\n"
      ],
      "metadata": {
        "id": "pcYYEHN6yNhm"
      }
    },
    {
      "cell_type": "code",
      "source": [
        "class ConversationManager:\n",
        "    def __init__(self, client, k=3, max_turns=None, max_chars=None):\n",
        "        self.client = client\n",
        "        self.history = []\n",
        "        self.k = k  # summarization frequency\n",
        "        self.run_count = 0\n",
        "        self.max_turns = max_turns\n",
        "        self.max_chars = max_chars\n",
        "        self.length_log = []  # track history length over time\n",
        "\n",
        "    def add_message(self, role, content):\n",
        "        \"\"\"Add message to history\"\"\"\n",
        "        self.history.append({\"role\": role, \"content\": content})\n",
        "        self.run_count += 1\n",
        "\n",
        "        # Track before truncation\n",
        "        self.length_log.append(len(\" \".join(m[\"content\"] for m in self.history)))\n",
        "\n",
        "        # Apply truncation\n",
        "        self.apply_truncation()\n",
        "\n",
        "        # Periodic summarization\n",
        "        if self.run_count % self.k == 0:\n",
        "            self.summarize()\n",
        "\n",
        "    def apply_truncation(self):\n",
        "        \"\"\"Truncate history by turns or character length\"\"\"\n",
        "        if self.max_turns:\n",
        "            self.history = self.history[-self.max_turns:]\n",
        "        if self.max_chars:\n",
        "            total_len = 0\n",
        "            truncated = []\n",
        "            for msg in reversed(self.history):\n",
        "                if total_len + len(msg[\"content\"]) <= self.max_chars:\n",
        "                    truncated.insert(0, msg)\n",
        "                    total_len += len(msg[\"content\"])\n",
        "                else:\n",
        "                    break\n",
        "            self.history = truncated\n",
        "\n",
        "    def summarize(self):\n",
        "        \"\"\"Summarize conversation history using Groq\"\"\"\n",
        "        try:\n",
        "            response = self.client.chat.completions.create(\n",
        "                model=\"llama-3.3-70b-versatile\",\n",
        "\n",
        "                messages=[\n",
        "                    {\"role\": \"system\", \"content\": \"You are a helpful assistant that summarizes conversations.\"},\n",
        "                    {\"role\": \"user\", \"content\": f\"Summarize the following conversation:\\n\\n{self.history}\"}\n",
        "                ],\n",
        "                temperature=0.5,\n",
        "                max_tokens=150\n",
        "            )\n",
        "\n",
        "            summary = response.choices[0].message.content\n",
        "            self.history = [{\"role\": \"system\", \"content\": f\"(Summary so far): {summary}\"}]\n",
        "            print(\"Conversation summarized.\")\n",
        "        except Exception as e:\n",
        "            print(\"Summarization failed:\", str(e))\n",
        "\n",
        "    def get_history(self):\n",
        "        return self.history\n"
      ],
      "metadata": {
        "id": "jqESYxxdx8om"
      },
      "execution_count": 5,
      "outputs": []
    },
    {
      "cell_type": "markdown",
      "source": [
        "### Demonstration\n",
        "\n",
        "We’ll:\n",
        "1. Add multiple messages to the conversation.\n",
        "2. Show outputs at different truncation settings.\n",
        "3. Trigger summarization after every **3 runs**.\n"
      ],
      "metadata": {
        "id": "XMss98ipyVya"
      }
    },
    {
      "cell_type": "code",
      "source": [
        "import matplotlib.pyplot as plt\n",
        "\n",
        "# Create manager\n",
        "conv = ConversationManager(client, k=3, max_turns=6, max_chars=500)\n",
        "\n",
        "# Simulated conversation\n",
        "sample_messages = [\n",
        "    (\"user\", \"Hi, I want to know about the weather in Delhi.\"),\n",
        "    (\"assistant\", \"Sure, today's weather in Delhi is sunny with a high of 35°C.\"),\n",
        "    (\"user\", \"Thanks! What about tomorrow?\"),\n",
        "    (\"assistant\", \"Tomorrow will be partly cloudy with a high of 33°C.\"),\n",
        "    (\"user\", \"Great, and can you also tell me the air quality index?\"),\n",
        "    (\"assistant\", \"The AQI is currently 120, which is moderate.\"),\n",
        "    (\"user\", \"Okay, should I wear a mask?\"),\n",
        "    (\"assistant\", \"Yes, especially if you have asthma or other conditions.\"),\n",
        "    (\"user\", \"Got it. How about the weekend weather?\")\n",
        "]\n",
        "\n",
        "# Add messages\n",
        "for role, content in sample_messages:\n",
        "    conv.add_message(role, content)\n",
        "    print(\"\\n--- Conversation History ---\")\n",
        "    for msg in conv.get_history():\n",
        "        print(f\"{msg['role']}: {msg['content']}\")\n",
        "\n",
        "# Plot conversation length\n",
        "plt.plot(conv.length_log, marker=\"o\")\n",
        "plt.xlabel(\"Message index\")\n",
        "plt.ylabel(\"Conversation length (chars)\")\n",
        "plt.title(\"Conversation Length Reduction via Summarization\")\n",
        "plt.show()\n"
      ],
      "metadata": {
        "colab": {
          "base_uri": "https://localhost:8080/",
          "height": 1000
        },
        "id": "95yu_zqqyTaQ",
        "outputId": "472d82bb-7887-4fb8-d3e6-c4758a8913c5"
      },
      "execution_count": 7,
      "outputs": [
        {
          "output_type": "stream",
          "name": "stdout",
          "text": [
            "\n",
            "--- Conversation History ---\n",
            "user: Hi, I want to know about the weather in Delhi.\n",
            "\n",
            "--- Conversation History ---\n",
            "user: Hi, I want to know about the weather in Delhi.\n",
            "assistant: Sure, today's weather in Delhi is sunny with a high of 35°C.\n",
            "Conversation summarized.\n",
            "\n",
            "--- Conversation History ---\n",
            "system: (Summary so far): Here's a summary of the conversation:\n",
            "\n",
            "The user asked about the weather in Delhi. The assistant replied that today's weather in Delhi is sunny with a high of 35°C. The user then asked about the weather for tomorrow, but the assistant didn't provide a response in the given conversation.\n",
            "\n",
            "--- Conversation History ---\n",
            "system: (Summary so far): Here's a summary of the conversation:\n",
            "\n",
            "The user asked about the weather in Delhi. The assistant replied that today's weather in Delhi is sunny with a high of 35°C. The user then asked about the weather for tomorrow, but the assistant didn't provide a response in the given conversation.\n",
            "assistant: Tomorrow will be partly cloudy with a high of 33°C.\n",
            "\n",
            "--- Conversation History ---\n",
            "system: (Summary so far): Here's a summary of the conversation:\n",
            "\n",
            "The user asked about the weather in Delhi. The assistant replied that today's weather in Delhi is sunny with a high of 35°C. The user then asked about the weather for tomorrow, but the assistant didn't provide a response in the given conversation.\n",
            "assistant: Tomorrow will be partly cloudy with a high of 33°C.\n",
            "user: Great, and can you also tell me the air quality index?\n",
            "Conversation summarized.\n",
            "\n",
            "--- Conversation History ---\n",
            "system: (Summary so far): Here is a summary of the conversation:\n",
            "\n",
            "The user inquired about the weather in Delhi. The assistant reported that the current weather is sunny with a high of 35°C. The user then asked about the weather for the next day, and the assistant replied that it would be partly cloudy with a high of 33°C. Finally, the user requested information on the air quality index, and the assistant stated that the current AQI is 120, which is considered moderate.\n",
            "\n",
            "--- Conversation History ---\n",
            "system: (Summary so far): Here is a summary of the conversation:\n",
            "\n",
            "The user inquired about the weather in Delhi. The assistant reported that the current weather is sunny with a high of 35°C. The user then asked about the weather for the next day, and the assistant replied that it would be partly cloudy with a high of 33°C. Finally, the user requested information on the air quality index, and the assistant stated that the current AQI is 120, which is considered moderate.\n",
            "user: Okay, should I wear a mask?\n",
            "\n",
            "--- Conversation History ---\n",
            "user: Okay, should I wear a mask?\n",
            "assistant: Yes, especially if you have asthma or other conditions.\n",
            "Conversation summarized.\n",
            "\n",
            "--- Conversation History ---\n",
            "system: (Summary so far): The conversation started with the user asking if they should wear a mask, and the assistant advised yes, especially for those with asthma or other conditions. The user then changed the subject and asked about the weekend weather, but didn't receive a response.\n"
          ]
        },
        {
          "output_type": "display_data",
          "data": {
            "text/plain": [
              "<Figure size 640x480 with 1 Axes>"
            ],
            "image/png": "[encoded data removed]"
          },
          "metadata": {}
        }
      ]
    },
    {
      "cell_type": "markdown",
      "source": [
        "# Task 2: JSON Schema Classification & Information Extraction\n"
      ],
      "metadata": {
        "id": "-_J7qkUo1Qib"
      }
    },
    {
      "cell_type": "markdown",
      "source": [
        "### Objective\n",
        "We will:\n",
        "1. Define a **JSON schema** to extract:\n",
        "   - Name  \n",
        "   - Email  \n",
        "   - Phone  \n",
        "   - Location  \n",
        "   - Age  \n",
        "2. Use Groq API’s **function calling** for structured output.  \n",
        "3. Validate with sample chats.  \n"
      ],
      "metadata": {
        "id": "_FGRapiT1S9k"
      }
    },
    {
      "cell_type": "code",
      "source": [
        "# Define schema for extraction\n",
        "schema = {\n",
        "    \"name\": \"extract_user_info\",\n",
        "    \"description\": \"Extract user details from conversation\",\n",
        "    \"parameters\": {\n",
        "        \"type\": \"object\",\n",
        "        \"properties\": {\n",
        "            \"name\": {\"type\": \"string\", \"description\": \"Full name of the user\"},\n",
        "            \"email\": {\"type\": \"string\", \"description\": \"Email address of the user\"},\n",
        "            \"phone\": {\"type\": \"string\", \"description\": \"Phone number of the user\"},\n",
        "            \"location\": {\"type\": \"string\", \"description\": \"Location or city of the user\"},\n",
        "            \"age\": {\"type\": \"integer\", \"description\": \"Age of the user\"}\n",
        "        },\n",
        "        \"required\": [\"name\", \"email\", \"phone\", \"location\", \"age\"]\n",
        "    }\n",
        "}\n"
      ],
      "metadata": {
        "id": "s3iRwjeI1H4p"
      },
      "execution_count": 8,
      "outputs": []
    },
    {
      "cell_type": "code",
      "source": [
        "def extract_info(chat_text):\n",
        "    \"\"\"Call Groq API with function-calling schema\"\"\"\n",
        "    response = client.chat.completions.create(\n",
        "        model=\"llama-3.3-70b-versatile\",\n",
        "        messages=[{\"role\": \"user\", \"content\": chat_text}],\n",
        "        functions=[schema],\n",
        "        function_call={\"name\": \"extract_user_info\"}\n",
        "    )\n",
        "    try:\n",
        "        return response.choices[0].message.function_call.arguments\n",
        "    except Exception as e:\n",
        "        return {\"error\": str(e)}\n"
      ],
      "metadata": {
        "id": "PCwQuhYt1Vrs"
      },
      "execution_count": 9,
      "outputs": []
    },
    {
      "cell_type": "code",
      "source": [
        "samples = [\n",
        "    \"Hi, my name is Pranshul. I'm 21 years old, living in Mumbai. My email is pranshulm2004@gmail.com and my phone is 9876543210.\",\n",
        "    \"Hello, I am Neelakshi Tiwari, 22 years old from Delhi. Contact me at neelakshi.tiwari@mail.com or call me at 1234567890.\",\n",
        "    \"I'm Ankit, 22, from Bangalore. You can reach me at ankit22@yahoo.com, phone 8765432109.\"\n",
        "]\n",
        "\n",
        "for i, text in enumerate(samples, 1):\n",
        "    print(f\"\\n🔹 Sample {i}:\")\n",
        "    print(text)\n",
        "    result = extract_info(text)\n",
        "    print(\"Extracted Json:\", result)\n"
      ],
      "metadata": {
        "colab": {
          "base_uri": "https://localhost:8080/"
        },
        "id": "-C7Z5XXf1XZK",
        "outputId": "49c32902-25d0-4f57-8c12-04eb095d4e3c"
      },
      "execution_count": 10,
      "outputs": [
        {
          "output_type": "stream",
          "name": "stdout",
          "text": [
            "\n",
            "🔹 Sample 1:\n",
            "Hi, my name is Pranshul. I'm 21 years old, living in Mumbai. My email is pranshulm2004@gmail.com and my phone is 9876543210.\n",
            "Extracted Json: {\"age\":21,\"email\":\"pranshulm2004@gmail.com\",\"location\":\"Mumbai\",\"name\":\"Pranshul\",\"phone\":\"9876543210\"}\n",
            "\n",
            "🔹 Sample 2:\n",
            "Hello, I am Neelakshi Tiwari, 22 years old from Delhi. Contact me at neelakshi.tiwari@mail.com or call me at 1234567890.\n",
            "Extracted Json: {\"age\":22,\"email\":\"neelakshi.tiwari@mail.com\",\"location\":\"Delhi\",\"name\":\"Neelakshi Tiwari\",\"phone\":\"1234567890\"}\n",
            "\n",
            "🔹 Sample 3:\n",
            "I'm Ankit, 22, from Bangalore. You can reach me at ankit22@yahoo.com, phone 8765432109.\n",
            "Extracted Json: {\"age\":22,\"email\":\"ankit22@yahoo.com\",\"location\":\"Bangalore\",\"name\":\"Ankit\",\"phone\":\"8765432109\"}\n"
          ]
        }
      ]
    },
    {
      "cell_type": "markdown",
      "source": [
        "# Summary\n",
        "\n",
        "- **Task 1**: Implemented a conversation manager with truncation and periodic summarization.  \n",
        "- **Task 2**: Implemented JSON schema classification & structured extraction using Groq function calling.  \n",
        "\n",
        "Both tasks demonstrate core Groq API functionalities clearly with visible outputs.  \n"
      ],
      "metadata": {
        "id": "1b6cZJpO1inF"
      }
    },
    {
      "cell_type": "code",
      "source": [],
      "metadata": {
        "id": "1YSvqmig1jSk"
      },
      "execution_count": null,
      "outputs": []
    }
  ]
}